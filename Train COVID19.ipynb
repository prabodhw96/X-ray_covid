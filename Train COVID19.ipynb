{
 "cells": [
  {
   "cell_type": "code",
   "execution_count": 1,
   "metadata": {},
   "outputs": [],
   "source": [
    "import numpy as np\n",
    "import matplotlib.pyplot as plt\n",
    "plt.style.use('ggplot')\n",
    "import argparse\n",
    "import cv2\n",
    "import os\n",
    "from imutils import paths\n",
    "\n",
    "from tensorflow.keras.preprocessing.image import ImageDataGenerator\n",
    "from tensorflow.keras.applications import VGG16\n",
    "from tensorflow.keras.layers import AveragePooling2D\n",
    "from tensorflow.keras.layers import Dropout\n",
    "from tensorflow.keras.layers import Flatten\n",
    "from tensorflow.keras.layers import Dense\n",
    "from tensorflow.keras.layers import Input\n",
    "from tensorflow.keras.models import Model\n",
    "from tensorflow.keras.optimizers import Adam\n",
    "from tensorflow.keras.utils import to_categorical\n",
    "from sklearn.preprocessing import LabelBinarizer\n",
    "from sklearn.model_selection import train_test_split\n",
    "from sklearn.metrics import classification_report\n",
    "from sklearn.metrics import confusion_matrix"
   ]
  },
  {
   "cell_type": "code",
   "execution_count": 2,
   "metadata": {},
   "outputs": [],
   "source": [
    "INIT_LR = 1e-3\n",
    "EPOCHS = 25\n",
    "BS = 8"
   ]
  },
  {
   "cell_type": "code",
   "execution_count": 3,
   "metadata": {},
   "outputs": [],
   "source": [
    "imagePaths = list(paths.list_images(\"dataset\"))\n",
    "data = []\n",
    "labels = []\n",
    "\n",
    "for imagePath in imagePaths:\n",
    "\t# extract the class label from the filename\n",
    "\tlabel = imagePath.split(os.path.sep)[-2]\n",
    "\n",
    "\t# load the image, swap color channels, and resize it to be a fixed\n",
    "\t# 224x224 pixels while ignoring aspect ratio\n",
    "\timage = cv2.imread(imagePath)\n",
    "\timage = cv2.cvtColor(image, cv2.COLOR_BGR2RGB)\n",
    "\timage = cv2.resize(image, (224, 224))\n",
    "\n",
    "\t# update the data and labels lists, respectively\n",
    "\tdata.append(image)\n",
    "\tlabels.append(label)"
   ]
  },
  {
   "cell_type": "code",
   "execution_count": 4,
   "metadata": {},
   "outputs": [],
   "source": [
    "data = np.array(data) / 255.0\n",
    "labels = np.array(labels)"
   ]
  },
  {
   "cell_type": "code",
   "execution_count": 5,
   "metadata": {},
   "outputs": [],
   "source": [
    "lb = LabelBinarizer()\n",
    "labels = lb.fit_transform(labels)\n",
    "labels = to_categorical(labels)"
   ]
  },
  {
   "cell_type": "code",
   "execution_count": 6,
   "metadata": {},
   "outputs": [],
   "source": [
    "(trainX, testX, trainY, testY) = train_test_split(data, labels, test_size=0.20, stratify=labels, random_state=42)"
   ]
  },
  {
   "cell_type": "code",
   "execution_count": 7,
   "metadata": {},
   "outputs": [],
   "source": [
    "trainAug = ImageDataGenerator(rotation_range=15, fill_mode=\"nearest\")"
   ]
  },
  {
   "cell_type": "code",
   "execution_count": 8,
   "metadata": {},
   "outputs": [],
   "source": [
    "baseModel = VGG16(weights=\"imagenet\", include_top=False, input_tensor=Input(shape=(224, 224, 3)))"
   ]
  },
  {
   "cell_type": "code",
   "execution_count": 9,
   "metadata": {},
   "outputs": [],
   "source": [
    "headModel = baseModel.output\n",
    "headModel = AveragePooling2D(pool_size=(4, 4))(headModel)\n",
    "headModel = Flatten(name=\"flatten\")(headModel)\n",
    "headModel = Dense(64, activation=\"relu\")(headModel)\n",
    "headModel = Dropout(0.5)(headModel)\n",
    "headModel = Dense(2, activation=\"softmax\")(headModel)"
   ]
  },
  {
   "cell_type": "code",
   "execution_count": 10,
   "metadata": {},
   "outputs": [],
   "source": [
    "model = Model(inputs=baseModel.input, outputs=headModel)"
   ]
  },
  {
   "cell_type": "code",
   "execution_count": 11,
   "metadata": {},
   "outputs": [],
   "source": [
    "for layer in baseModel.layers:\n",
    "    layer.trainable = False"
   ]
  },
  {
   "cell_type": "code",
   "execution_count": 12,
   "metadata": {},
   "outputs": [],
   "source": [
    "opt = Adam(lr=INIT_LR, decay=INIT_LR / EPOCHS)\n",
    "model.compile(loss=\"binary_crossentropy\", optimizer=opt, metrics=[\"accuracy\"])"
   ]
  },
  {
   "cell_type": "code",
   "execution_count": 13,
   "metadata": {},
   "outputs": [
    {
     "name": "stdout",
     "output_type": "stream",
     "text": [
      "WARNING:tensorflow:From <ipython-input-13-853bb0e42dbe>:6: Model.fit_generator (from tensorflow.python.keras.engine.training) is deprecated and will be removed in a future version.\n",
      "Instructions for updating:\n",
      "Please use Model.fit, which supports generators.\n",
      "Epoch 1/25\n",
      "21/21 [==============================] - 3s 124ms/step - loss: 0.8574 - accuracy: 0.5357 - val_loss: 0.6391 - val_accuracy: 0.6818\n",
      "Epoch 2/25\n",
      "21/21 [==============================] - 2s 84ms/step - loss: 0.6775 - accuracy: 0.6402 - val_loss: 0.5663 - val_accuracy: 0.8636\n",
      "Epoch 3/25\n",
      "21/21 [==============================] - 2s 84ms/step - loss: 0.5852 - accuracy: 0.7134 - val_loss: 0.5052 - val_accuracy: 0.9318\n",
      "Epoch 4/25\n",
      "21/21 [==============================] - 2s 84ms/step - loss: 0.5077 - accuracy: 0.7927 - val_loss: 0.4561 - val_accuracy: 0.9091\n",
      "Epoch 5/25\n",
      "21/21 [==============================] - 2s 82ms/step - loss: 0.4891 - accuracy: 0.7744 - val_loss: 0.4172 - val_accuracy: 0.9091\n",
      "Epoch 6/25\n",
      "21/21 [==============================] - 2s 83ms/step - loss: 0.4904 - accuracy: 0.7622 - val_loss: 0.4078 - val_accuracy: 0.9318\n",
      "Epoch 7/25\n",
      "21/21 [==============================] - 2s 85ms/step - loss: 0.3916 - accuracy: 0.8659 - val_loss: 0.3515 - val_accuracy: 0.9318\n",
      "Epoch 8/25\n",
      "21/21 [==============================] - 2s 85ms/step - loss: 0.3864 - accuracy: 0.8476 - val_loss: 0.3311 - val_accuracy: 0.9318\n",
      "Epoch 9/25\n",
      "21/21 [==============================] - 2s 84ms/step - loss: 0.3278 - accuracy: 0.8902 - val_loss: 0.3289 - val_accuracy: 0.9318\n",
      "Epoch 10/25\n",
      "21/21 [==============================] - 2s 84ms/step - loss: 0.2896 - accuracy: 0.9146 - val_loss: 0.3037 - val_accuracy: 0.9318\n",
      "Epoch 11/25\n",
      "21/21 [==============================] - 2s 87ms/step - loss: 0.3184 - accuracy: 0.8780 - val_loss: 0.2638 - val_accuracy: 0.9318\n",
      "Epoch 12/25\n",
      "21/21 [==============================] - 2s 84ms/step - loss: 0.2898 - accuracy: 0.8963 - val_loss: 0.2529 - val_accuracy: 0.9318\n",
      "Epoch 13/25\n",
      "21/21 [==============================] - 2s 86ms/step - loss: 0.2541 - accuracy: 0.9268 - val_loss: 0.2316 - val_accuracy: 0.9545\n",
      "Epoch 14/25\n",
      "21/21 [==============================] - 2s 84ms/step - loss: 0.2362 - accuracy: 0.9268 - val_loss: 0.2289 - val_accuracy: 0.9318\n",
      "Epoch 15/25\n",
      "21/21 [==============================] - 2s 84ms/step - loss: 0.2320 - accuracy: 0.9390 - val_loss: 0.2108 - val_accuracy: 0.9545\n",
      "Epoch 16/25\n",
      "21/21 [==============================] - 2s 83ms/step - loss: 0.1933 - accuracy: 0.9512 - val_loss: 0.1994 - val_accuracy: 0.9318\n",
      "Epoch 17/25\n",
      "21/21 [==============================] - 2s 85ms/step - loss: 0.2046 - accuracy: 0.9390 - val_loss: 0.1962 - val_accuracy: 0.9545\n",
      "Epoch 18/25\n",
      "21/21 [==============================] - 2s 84ms/step - loss: 0.1518 - accuracy: 0.9695 - val_loss: 0.1890 - val_accuracy: 0.9545\n",
      "Epoch 19/25\n",
      "21/21 [==============================] - 2s 88ms/step - loss: 0.1824 - accuracy: 0.9512 - val_loss: 0.1906 - val_accuracy: 0.9318\n",
      "Epoch 20/25\n",
      "21/21 [==============================] - 2s 85ms/step - loss: 0.1825 - accuracy: 0.9573 - val_loss: 0.1826 - val_accuracy: 0.9318\n",
      "Epoch 21/25\n",
      "21/21 [==============================] - 2s 85ms/step - loss: 0.1672 - accuracy: 0.9573 - val_loss: 0.1779 - val_accuracy: 0.9545\n",
      "Epoch 22/25\n",
      "21/21 [==============================] - 2s 83ms/step - loss: 0.1623 - accuracy: 0.9390 - val_loss: 0.1713 - val_accuracy: 0.9545\n",
      "Epoch 23/25\n",
      "21/21 [==============================] - 2s 86ms/step - loss: 0.1526 - accuracy: 0.9524 - val_loss: 0.1969 - val_accuracy: 0.9318\n",
      "Epoch 24/25\n",
      "21/21 [==============================] - 2s 89ms/step - loss: 0.1385 - accuracy: 0.9573 - val_loss: 0.2009 - val_accuracy: 0.9318\n",
      "Epoch 25/25\n",
      "21/21 [==============================] - 2s 85ms/step - loss: 0.1345 - accuracy: 0.9878 - val_loss: 0.1611 - val_accuracy: 0.9545\n"
     ]
    }
   ],
   "source": [
    "H = model.fit_generator(\n",
    "    trainAug.flow(trainX, trainY, batch_size=BS),\n",
    "    steps_per_epoch=len(trainX) // BS,\n",
    "    validation_data=(testX, testY),\n",
    "    validation_steps=len(testX) // BS,\n",
    "    epochs=EPOCHS)"
   ]
  },
  {
   "cell_type": "code",
   "execution_count": 14,
   "metadata": {},
   "outputs": [],
   "source": [
    "predIdxs = model.predict(testX, batch_size=BS)\n",
    "predIdxs = np.argmax(predIdxs, axis=1)"
   ]
  },
  {
   "cell_type": "code",
   "execution_count": 15,
   "metadata": {},
   "outputs": [],
   "source": [
    "cm = confusion_matrix(testY.argmax(axis=1), predIdxs)\n",
    "total = sum(sum(cm))\n",
    "acc = (cm[0, 0] + cm[1, 1]) / total\n",
    "sensitivity = cm[0, 0] / (cm[0, 0] + cm[0, 1])\n",
    "specificity = cm[1, 1] / (cm[1, 0] + cm[1, 1])"
   ]
  },
  {
   "cell_type": "code",
   "execution_count": 16,
   "metadata": {},
   "outputs": [
    {
     "name": "stdout",
     "output_type": "stream",
     "text": [
      "[[22  0]\n",
      " [ 2 20]]\n",
      "acc: 0.9545\n",
      "sensitivity: 1.0000\n",
      "specificity: 0.9091\n"
     ]
    }
   ],
   "source": [
    "print(cm)\n",
    "print(\"acc: {:.4f}\".format(acc))\n",
    "print(\"sensitivity: {:.4f}\".format(sensitivity))\n",
    "print(\"specificity: {:.4f}\".format(specificity))"
   ]
  },
  {
   "cell_type": "code",
   "execution_count": 17,
   "metadata": {},
   "outputs": [
    {
     "data": {
      "image/png": "[encoded data removed]",
      "text/plain": [
       "<Figure size 432x288 with 1 Axes>"
      ]
     },
     "metadata": {},
     "output_type": "display_data"
    }
   ],
   "source": [
    "N = EPOCHS\n",
    "plt.style.use(\"ggplot\")\n",
    "plt.figure()\n",
    "plt.plot(np.arange(0, N), H.history[\"loss\"], label=\"train_loss\")\n",
    "plt.plot(np.arange(0, N), H.history[\"val_loss\"], label=\"val_loss\")\n",
    "plt.plot(np.arange(0, N), H.history[\"accuracy\"], label=\"train_acc\")\n",
    "plt.plot(np.arange(0, N), H.history[\"val_accuracy\"], label=\"val_acc\")\n",
    "plt.title(\"Training Loss and Accuracy on COVID-19 Dataset\")\n",
    "plt.xlabel(\"Epoch #\")\n",
    "plt.ylabel(\"Loss/Accuracy\")\n",
    "plt.legend(loc=\"lower left\")\n",
    "plt.savefig(\"plot.png\")"
   ]
  },
  {
   "cell_type": "code",
   "execution_count": 18,
   "metadata": {},
   "outputs": [],
   "source": [
    "model.save(\"covid19.model\", save_format=\"h5\")"
   ]
  },
  {
   "cell_type": "code",
   "execution_count": null,
   "metadata": {},
   "outputs": [],
   "source": []
  }
 ],
 "metadata": {
  "kernelspec": {
   "display_name": "Python 3",
   "language": "python",
   "name": "python3"
  },
  "language_info": {
   "codemirror_mode": {
    "name": "ipython",
    "version": 3
   },
   "file_extension": ".py",
   "mimetype": "text/x-python",
   "name": "python",
   "nbconvert_exporter": "python",
   "pygments_lexer": "ipython3",
   "version": "3.6.9"
  }
 },
 "nbformat": 4,
 "nbformat_minor": 4
}
